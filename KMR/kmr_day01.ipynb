{
  "nbformat": 4,
  "nbformat_minor": 0,
  "metadata": {
    "colab": {
      "name": "kmr_day01.ipynb",
      "provenance": [],
      "authorship_tag": "ABX9TyPrEFWkJODkPSxdXFuKm+Zy",
      "include_colab_link": true
    },
    "kernelspec": {
      "name": "python3",
      "display_name": "Python 3"
    },
    "language_info": {
      "name": "python"
    }
  },
  "cells": [
    {
      "cell_type": "markdown",
      "metadata": {
        "id": "view-in-github",
        "colab_type": "text"
      },
      "source": [
        "<a href=\"https://colab.research.google.com/github/Eunjung-Cho/python_study/blob/master/KMR/kmr_day01.ipynb\" target=\"_parent\"><img src=\"https://colab.research.google.com/assets/colab-badge.svg\" alt=\"Open In Colab\"/></a>"
      ]
    },
    {
      "cell_type": "markdown",
      "metadata": {
        "id": "3OUqNWQ_ZEyc"
      },
      "source": [
        "# DAY 01"
      ]
    },
    {
      "cell_type": "code",
      "metadata": {
        "colab": {
          "base_uri": "https://localhost:8080/"
        },
        "id": "Y-eis8PJZI6z",
        "outputId": "f3e66be5-cea2-4deb-ea13-11d8d1c84f33"
      },
      "source": [
        "!pip install finance-datareader"
      ],
      "execution_count": 1,
      "outputs": [
        {
          "output_type": "stream",
          "text": [
            "Collecting finance-datareader\n",
            "  Downloading https://files.pythonhosted.org/packages/83/5e/54306e72b5ff5d5ec6cc9f32cdf19602237f9bb70d64efcd527338388be3/finance_datareader-0.9.31-py3-none-any.whl\n",
            "Requirement already satisfied: pandas>=0.19.2 in /usr/local/lib/python3.7/dist-packages (from finance-datareader) (1.1.5)\n",
            "Collecting requests-file\n",
            "  Downloading https://files.pythonhosted.org/packages/77/86/cdb5e8eaed90796aa83a6d9f75cfbd37af553c47a291cd47bc410ef9bdb2/requests_file-1.5.1-py2.py3-none-any.whl\n",
            "Requirement already satisfied: requests>=2.3.0 in /usr/local/lib/python3.7/dist-packages (from finance-datareader) (2.23.0)\n",
            "Requirement already satisfied: lxml in /usr/local/lib/python3.7/dist-packages (from finance-datareader) (4.2.6)\n",
            "Requirement already satisfied: tqdm in /usr/local/lib/python3.7/dist-packages (from finance-datareader) (4.41.1)\n",
            "Requirement already satisfied: pytz>=2017.2 in /usr/local/lib/python3.7/dist-packages (from pandas>=0.19.2->finance-datareader) (2018.9)\n",
            "Requirement already satisfied: numpy>=1.15.4 in /usr/local/lib/python3.7/dist-packages (from pandas>=0.19.2->finance-datareader) (1.19.5)\n",
            "Requirement already satisfied: python-dateutil>=2.7.3 in /usr/local/lib/python3.7/dist-packages (from pandas>=0.19.2->finance-datareader) (2.8.1)\n",
            "Requirement already satisfied: six in /usr/local/lib/python3.7/dist-packages (from requests-file->finance-datareader) (1.15.0)\n",
            "Requirement already satisfied: urllib3!=1.25.0,!=1.25.1,<1.26,>=1.21.1 in /usr/local/lib/python3.7/dist-packages (from requests>=2.3.0->finance-datareader) (1.24.3)\n",
            "Requirement already satisfied: chardet<4,>=3.0.2 in /usr/local/lib/python3.7/dist-packages (from requests>=2.3.0->finance-datareader) (3.0.4)\n",
            "Requirement already satisfied: certifi>=2017.4.17 in /usr/local/lib/python3.7/dist-packages (from requests>=2.3.0->finance-datareader) (2020.12.5)\n",
            "Requirement already satisfied: idna<3,>=2.5 in /usr/local/lib/python3.7/dist-packages (from requests>=2.3.0->finance-datareader) (2.10)\n",
            "Installing collected packages: requests-file, finance-datareader\n",
            "Successfully installed finance-datareader-0.9.31 requests-file-1.5.1\n"
          ],
          "name": "stdout"
        }
      ]
    },
    {
      "cell_type": "code",
      "metadata": {
        "colab": {
          "base_uri": "https://localhost:8080/",
          "height": 450
        },
        "id": "3EBMXEU_aVUq",
        "outputId": "528b60ab-9b7b-4018-973b-e9e11950f0e0"
      },
      "source": [
        "import FinanceDataReader as fdr\n",
        "\n",
        "df= fdr.DataReader('KS11', '2020-01-01')\n",
        "df"
      ],
      "execution_count": 2,
      "outputs": [
        {
          "output_type": "execute_result",
          "data": {
            "text/html": [
              "<div>\n",
              "<style scoped>\n",
              "    .dataframe tbody tr th:only-of-type {\n",
              "        vertical-align: middle;\n",
              "    }\n",
              "\n",
              "    .dataframe tbody tr th {\n",
              "        vertical-align: top;\n",
              "    }\n",
              "\n",
              "    .dataframe thead th {\n",
              "        text-align: right;\n",
              "    }\n",
              "</style>\n",
              "<table border=\"1\" class=\"dataframe\">\n",
              "  <thead>\n",
              "    <tr style=\"text-align: right;\">\n",
              "      <th></th>\n",
              "      <th>Close</th>\n",
              "      <th>Open</th>\n",
              "      <th>High</th>\n",
              "      <th>Low</th>\n",
              "      <th>Volume</th>\n",
              "      <th>Change</th>\n",
              "    </tr>\n",
              "    <tr>\n",
              "      <th>Date</th>\n",
              "      <th></th>\n",
              "      <th></th>\n",
              "      <th></th>\n",
              "      <th></th>\n",
              "      <th></th>\n",
              "      <th></th>\n",
              "    </tr>\n",
              "  </thead>\n",
              "  <tbody>\n",
              "    <tr>\n",
              "      <th>2020-01-02</th>\n",
              "      <td>2175.17</td>\n",
              "      <td>2201.21</td>\n",
              "      <td>2202.32</td>\n",
              "      <td>2171.84</td>\n",
              "      <td>4.946800e+08</td>\n",
              "      <td>-0.0102</td>\n",
              "    </tr>\n",
              "    <tr>\n",
              "      <th>2020-01-03</th>\n",
              "      <td>2176.46</td>\n",
              "      <td>2192.58</td>\n",
              "      <td>2203.38</td>\n",
              "      <td>2165.39</td>\n",
              "      <td>6.315600e+08</td>\n",
              "      <td>0.0006</td>\n",
              "    </tr>\n",
              "    <tr>\n",
              "      <th>2020-01-06</th>\n",
              "      <td>2155.07</td>\n",
              "      <td>2154.97</td>\n",
              "      <td>2164.42</td>\n",
              "      <td>2149.95</td>\n",
              "      <td>5.926700e+08</td>\n",
              "      <td>-0.0098</td>\n",
              "    </tr>\n",
              "    <tr>\n",
              "      <th>2020-01-07</th>\n",
              "      <td>2175.54</td>\n",
              "      <td>2166.60</td>\n",
              "      <td>2181.62</td>\n",
              "      <td>2164.27</td>\n",
              "      <td>5.682400e+08</td>\n",
              "      <td>0.0095</td>\n",
              "    </tr>\n",
              "    <tr>\n",
              "      <th>2020-01-08</th>\n",
              "      <td>2151.31</td>\n",
              "      <td>2156.27</td>\n",
              "      <td>2162.32</td>\n",
              "      <td>2137.72</td>\n",
              "      <td>9.138300e+08</td>\n",
              "      <td>-0.0111</td>\n",
              "    </tr>\n",
              "    <tr>\n",
              "      <th>...</th>\n",
              "      <td>...</td>\n",
              "      <td>...</td>\n",
              "      <td>...</td>\n",
              "      <td>...</td>\n",
              "      <td>...</td>\n",
              "      <td>...</td>\n",
              "    </tr>\n",
              "    <tr>\n",
              "      <th>2021-04-05</th>\n",
              "      <td>3120.83</td>\n",
              "      <td>3121.23</td>\n",
              "      <td>3127.20</td>\n",
              "      <td>3101.86</td>\n",
              "      <td>1.080000e+09</td>\n",
              "      <td>0.0026</td>\n",
              "    </tr>\n",
              "    <tr>\n",
              "      <th>2021-04-06</th>\n",
              "      <td>3127.08</td>\n",
              "      <td>3123.80</td>\n",
              "      <td>3139.29</td>\n",
              "      <td>3110.19</td>\n",
              "      <td>1.280000e+09</td>\n",
              "      <td>0.0020</td>\n",
              "    </tr>\n",
              "    <tr>\n",
              "      <th>2021-04-07</th>\n",
              "      <td>3137.41</td>\n",
              "      <td>3129.07</td>\n",
              "      <td>3146.19</td>\n",
              "      <td>3125.33</td>\n",
              "      <td>1.980000e+09</td>\n",
              "      <td>0.0033</td>\n",
              "    </tr>\n",
              "    <tr>\n",
              "      <th>2021-04-08</th>\n",
              "      <td>3143.26</td>\n",
              "      <td>3137.25</td>\n",
              "      <td>3145.81</td>\n",
              "      <td>3122.09</td>\n",
              "      <td>1.360000e+09</td>\n",
              "      <td>0.0019</td>\n",
              "    </tr>\n",
              "    <tr>\n",
              "      <th>2021-04-09</th>\n",
              "      <td>3131.88</td>\n",
              "      <td>3146.51</td>\n",
              "      <td>3156.04</td>\n",
              "      <td>3125.24</td>\n",
              "      <td>1.780000e+06</td>\n",
              "      <td>-0.0036</td>\n",
              "    </tr>\n",
              "  </tbody>\n",
              "</table>\n",
              "<p>315 rows × 6 columns</p>\n",
              "</div>"
            ],
            "text/plain": [
              "              Close     Open     High      Low        Volume  Change\n",
              "Date                                                                \n",
              "2020-01-02  2175.17  2201.21  2202.32  2171.84  4.946800e+08 -0.0102\n",
              "2020-01-03  2176.46  2192.58  2203.38  2165.39  6.315600e+08  0.0006\n",
              "2020-01-06  2155.07  2154.97  2164.42  2149.95  5.926700e+08 -0.0098\n",
              "2020-01-07  2175.54  2166.60  2181.62  2164.27  5.682400e+08  0.0095\n",
              "2020-01-08  2151.31  2156.27  2162.32  2137.72  9.138300e+08 -0.0111\n",
              "...             ...      ...      ...      ...           ...     ...\n",
              "2021-04-05  3120.83  3121.23  3127.20  3101.86  1.080000e+09  0.0026\n",
              "2021-04-06  3127.08  3123.80  3139.29  3110.19  1.280000e+09  0.0020\n",
              "2021-04-07  3137.41  3129.07  3146.19  3125.33  1.980000e+09  0.0033\n",
              "2021-04-08  3143.26  3137.25  3145.81  3122.09  1.360000e+09  0.0019\n",
              "2021-04-09  3131.88  3146.51  3156.04  3125.24  1.780000e+06 -0.0036\n",
              "\n",
              "[315 rows x 6 columns]"
            ]
          },
          "metadata": {
            "tags": []
          },
          "execution_count": 2
        }
      ]
    },
    {
      "cell_type": "code",
      "metadata": {
        "colab": {
          "base_uri": "https://localhost:8080/"
        },
        "id": "L4NqttM-svia",
        "outputId": "ba929b39-0f20-4d54-a597-e70532703e8f"
      },
      "source": [
        "import keyword\n",
        "\n",
        "print(len(keyword.kwlist)) # 총 33개의 키워드\n",
        "print(keyword.kwlist)      # 키워드 내용\n"
      ],
      "execution_count": 3,
      "outputs": [
        {
          "output_type": "stream",
          "text": [
            "35\n",
            "['False', 'None', 'True', 'and', 'as', 'assert', 'async', 'await', 'break', 'class', 'continue', 'def', 'del', 'elif', 'else', 'except', 'finally', 'for', 'from', 'global', 'if', 'import', 'in', 'is', 'lambda', 'nonlocal', 'not', 'or', 'pass', 'raise', 'return', 'try', 'while', 'with', 'yield']\n"
          ],
          "name": "stdout"
        }
      ]
    },
    {
      "cell_type": "markdown",
      "metadata": {
        "id": "kUbF87E4sywA"
      },
      "source": [
        "## 파이썬의 주요 키워드 요약\n",
        "\n",
        "- True, False: 참/거짓을 표현. 비교연산(==, < 등)의 결과는 항상 True 혹은 False.\n",
        "- None: 값 없음을 표현\n",
        "- del: 객체를 삭제\n",
        "- and, or, not: 논리연산 AND, OR, NOT\n",
        "- def: 함수를 정의\n",
        "- return: 함수를 종료하고 값을 반환\n",
        "- if, else, elif: 조건에 참/거짓 여부에 따라 블럭을 실행\n",
        "- for, while: 보통 순회가능와 함께 반복(for), 조건이 True인 동안 실행(while)\n",
        "- break, continue: 반복문을 종료(break)하거나, 처음으로 이동(continue)\n",
        "- from, import: 모듈을 읽어 메모리에 적재\n",
        "- try, except: 예외 처리\n",
        "- with, as: 오픈된 파일의 범위(컨텍스트)\n",
        "- in: 리스트에 요소값이 존재하는지 테스트\n",
        "- is: 같은 객체인지 테스트\n",
        "- pass: 빈 블럭(실행할 것이 없음)"
      ]
    },
    {
      "cell_type": "markdown",
      "metadata": {
        "id": "P7FGtobjtAK4"
      },
      "source": [
        "### 그 외 키워드\n",
        "\n",
        "- assert: 조건이 False면 에러(AssertError)를 발생(주로 테스트에 사용)\n",
        "- finally: 예외처리의 try..except에서 처리하지 않는 내용을 처리하는 블럭\n",
        "- raise: 예외를 발생시킴\n",
        "- global, nonlocal: 전역변수로 지정, 로컬변수가 아님을 지정\n",
        "- lambda: 이름이 없는(익명) 함수로 실행 코드만 사용 (주로 map() 같은 함수와 함께 사용)\n",
        "- class: 새로운 클래스를 정의\n",
        "- yield: 값을 호출한 곳에 반환(제너레이터를 반환)하고 다시 돌아옴"
      ]
    },
    {
      "cell_type": "code",
      "metadata": {
        "colab": {
          "base_uri": "https://localhost:8080/",
          "height": 53
        },
        "id": "2bHraL4PtJro",
        "outputId": "86e39dc6-53f1-4db0-caf0-0359b3d9a3c1"
      },
      "source": [
        "# 한 번에 정리하는 파이썬 프로그래밍, 2019 FinanceData.KR\n",
        "\n",
        "## print()함수로 여러가지 출력\n",
        "print('Hello, Python')  # Hello, Python\n",
        "\n",
        "\"\"\"\n",
        "따옴표 세개로 묶어 긴 설명 문서를 작성할 수 있습니다\n",
        "\"\"\""
      ],
      "execution_count": 5,
      "outputs": [
        {
          "output_type": "stream",
          "text": [
            "Hello, Python\n"
          ],
          "name": "stdout"
        },
        {
          "output_type": "execute_result",
          "data": {
            "application/vnd.google.colaboratory.intrinsic+json": {
              "type": "string"
            },
            "text/plain": [
              "'\\n따옴표 세개로 묶어 긴 설명 문서를 작성할 수 있습니다\\n'"
            ]
          },
          "metadata": {
            "tags": []
          },
          "execution_count": 5
        }
      ]
    },
    {
      "cell_type": "code",
      "metadata": {
        "id": "_d3SN3pRtOe3"
      },
      "source": [
        "# 변수와 값, 변수(variable)에 값(value)을 할당(assign)\n",
        "원금 = 1250\n",
        "수익률 = 0.25\n",
        "잔고 = 원금 + 원금 * 수익률"
      ],
      "execution_count": 6,
      "outputs": []
    },
    {
      "cell_type": "code",
      "metadata": {
        "colab": {
          "base_uri": "https://localhost:8080/"
        },
        "id": "ldcWZvIutQz0",
        "outputId": "2ecfbaad-7bc2-4938-ed11-181bdb8f26c2"
      },
      "source": [
        "# 데이터 타입\n",
        "print(type(원금))    # <class 'int'>\n",
        "print(type(수익률))  # <class 'float'>"
      ],
      "execution_count": 8,
      "outputs": [
        {
          "output_type": "stream",
          "text": [
            "<class 'int'>\n",
            "<class 'float'>\n"
          ],
          "name": "stdout"
        }
      ]
    },
    {
      "cell_type": "markdown",
      "metadata": {
        "id": "cb6wEJfHu2Fy"
      },
      "source": [
        "#### str.format()\n",
        "\n",
        "{:.2f} \n",
        "-> float 출력 , 소수점 2자리 출력\n",
        "\n",
        "format의 첫번째 파라미터가 원금 ={}   \n",
        "format의 두번째 파라미터가 수익률={:.2f} 의 {} 자리\n"
      ]
    },
    {
      "cell_type": "code",
      "metadata": {
        "colab": {
          "base_uri": "https://localhost:8080/"
        },
        "id": "DSXNoO-AtVn_",
        "outputId": "90a5d614-2299-4519-cffa-d84182754020"
      },
      "source": [
        "# 출력을 위해 문자열 포맷팅 \n",
        "출력_문자열 = '원금={}, 수익률={:.2f}, 잔고 = {:.2f}'.format(원금, 수익률, 잔고)\n",
        "print(출력_문자열) # 원금=1250, 수익률=0.25, 잔고 = 1562.50"
      ],
      "execution_count": 9,
      "outputs": [
        {
          "output_type": "stream",
          "text": [
            "원금=1250, 수익률=0.25, 잔고 = 1562.50\n"
          ],
          "name": "stdout"
        }
      ]
    },
    {
      "cell_type": "code",
      "metadata": {
        "colab": {
          "base_uri": "https://localhost:8080/"
        },
        "id": "4toJKfHIv3EU",
        "outputId": "83684415-eef5-4296-857e-500099c852b2"
      },
      "source": [
        "import sys\n",
        "print(sys.version)"
      ],
      "execution_count": 32,
      "outputs": [
        {
          "output_type": "stream",
          "text": [
            "3.7.10 (default, Feb 20 2021, 21:17:23) \n",
            "[GCC 7.5.0]\n"
          ],
          "name": "stdout"
        }
      ]
    },
    {
      "cell_type": "markdown",
      "metadata": {
        "id": "e0BEh7aNvQ3F"
      },
      "source": [
        "#### f-string"
      ]
    },
    {
      "cell_type": "code",
      "metadata": {
        "colab": {
          "base_uri": "https://localhost:8080/",
          "height": 35
        },
        "id": "ztMe9PcwvQhj",
        "outputId": "e2f905fc-763b-4fe3-dbaa-69257933638c"
      },
      "source": [
        "# 출력을 위해 문자열 포매팅\n",
        "f'원금:{원금}, 수익={수익률}, 잔고={잔고}' # -> 이게 f스트링 파이썬 3.7부터 제공"
      ],
      "execution_count": 33,
      "outputs": [
        {
          "output_type": "execute_result",
          "data": {
            "application/vnd.google.colaboratory.intrinsic+json": {
              "type": "string"
            },
            "text/plain": [
              "'원금:1250, 수익=0.25, 잔고=1562.5'"
            ]
          },
          "metadata": {
            "tags": []
          },
          "execution_count": 33
        }
      ]
    },
    {
      "cell_type": "code",
      "metadata": {
        "colab": {
          "base_uri": "https://localhost:8080/"
        },
        "id": "DhzHERhgtVMM",
        "outputId": "e2e66bec-43a5-468f-c48c-0fe53f38dfe7"
      },
      "source": [
        "# 문자열 슬라이싱\n",
        "s = 'Hello, Python'\n",
        "print(s)       # Hello, Python\n",
        "print(s[4])    # o\n",
        "print(s[:])    # Hello, Python -> 처음부터 끝까지\n",
        "print(s[0:5])  # Hello\n",
        "print(s[7:9])  # Py\n",
        "print(s[-1])   # n"
      ],
      "execution_count": 35,
      "outputs": [
        {
          "output_type": "stream",
          "text": [
            "Hello, Python\n",
            "o\n",
            "Hello, Python\n",
            "Hello\n",
            "Py\n",
            "n\n"
          ],
          "name": "stdout"
        }
      ]
    },
    {
      "cell_type": "code",
      "metadata": {
        "colab": {
          "base_uri": "https://localhost:8080/",
          "height": 35
        },
        "id": "m1t-jbHCyJlJ",
        "outputId": "b06d99d3-ba79-4c59-b5d6-ef7d5531fea1"
      },
      "source": [
        "s[-2] # 끝에서 두번째"
      ],
      "execution_count": 37,
      "outputs": [
        {
          "output_type": "execute_result",
          "data": {
            "application/vnd.google.colaboratory.intrinsic+json": {
              "type": "string"
            },
            "text/plain": [
              "'o'"
            ]
          },
          "metadata": {
            "tags": []
          },
          "execution_count": 37
        }
      ]
    },
    {
      "cell_type": "code",
      "metadata": {
        "colab": {
          "base_uri": "https://localhost:8080/",
          "height": 35
        },
        "id": "qI_cxcG5yTOx",
        "outputId": "f6211893-b6b1-41f3-d29f-ec0ee6729aed"
      },
      "source": [
        "s[-4:] # 끝부분 4개"
      ],
      "execution_count": 38,
      "outputs": [
        {
          "output_type": "execute_result",
          "data": {
            "application/vnd.google.colaboratory.intrinsic+json": {
              "type": "string"
            },
            "text/plain": [
              "'thon'"
            ]
          },
          "metadata": {
            "tags": []
          },
          "execution_count": 38
        }
      ]
    },
    {
      "cell_type": "code",
      "metadata": {
        "colab": {
          "base_uri": "https://localhost:8080/"
        },
        "id": "Y0Kb-KJ0tW0j",
        "outputId": "94341d8d-ed6b-4c54-adfd-43954be7190d"
      },
      "source": [
        "# 문자열 split(), join()\n",
        "print(\"화학,출판,제약\".split(','))        # ['화학', '출판', '제약']\n",
        "print(\"|\".join(['화학', '출판', '제약'])) # 화학|출판|제약"
      ],
      "execution_count": 11,
      "outputs": [
        {
          "output_type": "stream",
          "text": [
            "['화학', '출판', '제약']\n",
            "화학|출판|제약\n"
          ],
          "name": "stdout"
        }
      ]
    },
    {
      "cell_type": "code",
      "metadata": {
        "id": "XyiXjq0f0KY-"
      },
      "source": [
        "stocks.append('현대차')"
      ],
      "execution_count": 41,
      "outputs": []
    },
    {
      "cell_type": "code",
      "metadata": {
        "colab": {
          "base_uri": "https://localhost:8080/"
        },
        "id": "HFNX9O720RzL",
        "outputId": "33cd6f49-4a77-466a-badf-9377c89821c9"
      },
      "source": [
        "stocks.index('현대차')"
      ],
      "execution_count": 42,
      "outputs": [
        {
          "output_type": "execute_result",
          "data": {
            "text/plain": [
              "3"
            ]
          },
          "metadata": {
            "tags": []
          },
          "execution_count": 42
        }
      ]
    },
    {
      "cell_type": "code",
      "metadata": {
        "colab": {
          "base_uri": "https://localhost:8080/"
        },
        "id": "hC1Te-GetY4f",
        "outputId": "a33f512c-2be9-4239-ceba-6379156296a3"
      },
      "source": [
        "# 리스트, append(), remove(), sort(), 병합\n",
        "관심종목 = ['삼성전자', '한국전력']\n",
        "관심종목.append('현대차')\n",
        "관심종목.append('셀트리온')\n",
        "print(관심종목)                 # ['삼성전자', '한국전력', '현대차', '셀트리온']\n",
        "print(관심종목.index('현대차')) # 1\n",
        "print('셀트리온' in 관심종목)   # True\n",
        "\n",
        "관심종목.remove('한국전력')\n",
        "print(관심종목)                 # ['삼성전자', '현대차', '셀트리온']\n",
        "          \n",
        "관심종목.sort()\n",
        "print(관심종목)                 # ['삼성전자', '셀트리온', '현대차']\n",
        "\n",
        "관심종목 += ['아모레퍼시픽']    # ['삼성전자', '셀트리온', '현대차', '아모레퍼시픽']\n",
        "print(관심종목)"
      ],
      "execution_count": 12,
      "outputs": [
        {
          "output_type": "stream",
          "text": [
            "['삼성전자', '한국전력', '현대차', '셀트리온']\n",
            "2\n",
            "True\n",
            "['삼성전자', '현대차', '셀트리온']\n",
            "['삼성전자', '셀트리온', '현대차']\n",
            "['삼성전자', '셀트리온', '현대차', '아모레퍼시픽']\n"
          ],
          "name": "stdout"
        }
      ]
    },
    {
      "cell_type": "code",
      "metadata": {
        "colab": {
          "base_uri": "https://localhost:8080/"
        },
        "id": "P7h5ywVWtcp9",
        "outputId": "2f6c9494-0c86-4d9d-e49a-49c02219f8c5"
      },
      "source": [
        "# 리스트 컴프리헨션\n",
        "lst = [x ** 2 for x in range(0, 10)]\n",
        "print(lst) # [0, 1, 4, 9, 16, 25, 36, 49, 64, 81]"
      ],
      "execution_count": 13,
      "outputs": [
        {
          "output_type": "stream",
          "text": [
            "[0, 1, 4, 9, 16, 25, 36, 49, 64, 81]\n"
          ],
          "name": "stdout"
        }
      ]
    },
    {
      "cell_type": "code",
      "metadata": {
        "colab": {
          "base_uri": "https://localhost:8080/"
        },
        "id": "M5Cx9txDtdbz",
        "outputId": "ca4a447f-21fb-47c9-8dff-b38cc7edb88a"
      },
      "source": [
        "# for와 enumerate 함께 사용하기\n",
        "for i, item in enumerate(관심종목):\n",
        "    print (i, item) # 0 삼성전자, 1 셀트리온, 2 현대차, 3 아모레퍼시픽"
      ],
      "execution_count": 14,
      "outputs": [
        {
          "output_type": "stream",
          "text": [
            "0 삼성전자\n",
            "1 셀트리온\n",
            "2 현대차\n",
            "3 아모레퍼시픽\n"
          ],
          "name": "stdout"
        }
      ]
    },
    {
      "cell_type": "code",
      "metadata": {
        "id": "h30egn8-2_E8"
      },
      "source": [
        "abc= list(['A','B', 'C', 'D', 'E'])"
      ],
      "execution_count": 45,
      "outputs": []
    },
    {
      "cell_type": "code",
      "metadata": {
        "colab": {
          "base_uri": "https://localhost:8080/"
        },
        "id": "9D_mIvJz3KEp",
        "outputId": "e4449a42-766f-4b5b-b073-578ad0aa0f8b"
      },
      "source": [
        "for i,x in enumerate(abc):\n",
        "  print(i,x) # i는 번호 붙는애 (인덱스), x는 그 값을 의미"
      ],
      "execution_count": 46,
      "outputs": [
        {
          "output_type": "stream",
          "text": [
            "0 A\n",
            "1 B\n",
            "2 C\n",
            "3 D\n",
            "4 E\n"
          ],
          "name": "stdout"
        }
      ]
    },
    {
      "cell_type": "code",
      "metadata": {
        "colab": {
          "base_uri": "https://localhost:8080/"
        },
        "id": "OF5ULhtj2z5y",
        "outputId": "8de7ccec-6c2d-41ff-ce4a-d533d537ef4f"
      },
      "source": [
        "for i,x in enumerate(range(5)):\n",
        "  print(i,x) # i는 번호 붙는애 (인덱스), x는 그 값을 의미"
      ],
      "execution_count": 43,
      "outputs": [
        {
          "output_type": "stream",
          "text": [
            "0 0\n",
            "1 1\n",
            "2 2\n",
            "3 3\n",
            "4 4\n"
          ],
          "name": "stdout"
        }
      ]
    },
    {
      "cell_type": "code",
      "metadata": {
        "id": "kha3hwW3tfm-"
      },
      "source": [
        "# 딕셔너리: 키(key)와 값(value)\n",
        "stocks = {'005930':'삼성전자', '000660':'SK하이닉스', '005380':'현대차'}"
      ],
      "execution_count": 48,
      "outputs": []
    },
    {
      "cell_type": "code",
      "metadata": {
        "colab": {
          "base_uri": "https://localhost:8080/"
        },
        "id": "7vg3D8-L3fjQ",
        "outputId": "82c431a0-c577-4331-feaa-af0b1c470813"
      },
      "source": [
        "# 딕셔너리에 요소추가\n",
        "stocks['035420'] = 'NAVER' \n",
        "stocks"
      ],
      "execution_count": 50,
      "outputs": [
        {
          "output_type": "execute_result",
          "data": {
            "text/plain": [
              "{'000660': 'SK하이닉스', '005380': '현대차', '005930': '삼성전자', '035420': 'NAVER'}"
            ]
          },
          "metadata": {
            "tags": []
          },
          "execution_count": 50
        }
      ]
    },
    {
      "cell_type": "code",
      "metadata": {
        "colab": {
          "base_uri": "https://localhost:8080/"
        },
        "id": "Pn3toph83gbB",
        "outputId": "1645fa38-bf31-4a91-fcdc-d9cede3d92ba"
      },
      "source": [
        "\n",
        "# zip + 딕셔너리 컴프리핸션: 두 리스트 데이터의 순서쌍 만들기 \n",
        "code_list = ['005930', '000660', '005380']\n",
        "name_list = ['삼성전자', 'SK하이닉스', '현대차']\n",
        "\n",
        "dic = {code:name for code, name in zip(code_list,name_list)}\n",
        "print(dic) # {'005930': '삼성전자', '000660': 'SK하이닉스', '005380': '현대차'}"
      ],
      "execution_count": 51,
      "outputs": [
        {
          "output_type": "stream",
          "text": [
            "{'005930': '삼성전자', '000660': 'SK하이닉스', '005380': '현대차'}\n"
          ],
          "name": "stdout"
        }
      ]
    },
    {
      "cell_type": "code",
      "metadata": {
        "colab": {
          "base_uri": "https://localhost:8080/"
        },
        "id": "Vjgq1cg3tgsM",
        "outputId": "c1988e2e-15b8-4cb6-b072-5cd3647e3d3d"
      },
      "source": [
        "# if 문 사용하기\n",
        "ret = 0.1\n",
        "if ret > 0.0:\n",
        "    print(\"상승\")\n",
        "else:\n",
        "    print(\"하락\")"
      ],
      "execution_count": 16,
      "outputs": [
        {
          "output_type": "stream",
          "text": [
            "상승\n"
          ],
          "name": "stdout"
        }
      ]
    },
    {
      "cell_type": "code",
      "metadata": {
        "colab": {
          "base_uri": "https://localhost:8080/"
        },
        "id": "8LYPd7PKtiPf",
        "outputId": "539643c0-cfa5-4796-b72d-72dec135f5c6"
      },
      "source": [
        "# for와  range와 함께 사용하기\n",
        "for i in range(1, 10): # 1~9\n",
        "    print(i, end=', ')\n",
        "\n",
        "# for와 리스트 함께 사용하기\n",
        "tech_stocks = ['AAPL', 'GOOGL', 'AMZN', 'FB', 'SBUX']\n",
        "for i in tech_stocks:\n",
        "    print(i, ' 처리하기' )"
      ],
      "execution_count": 17,
      "outputs": [
        {
          "output_type": "stream",
          "text": [
            "1, 2, 3, 4, 5, 6, 7, 8, 9, AAPL  처리하기\n",
            "GOOGL  처리하기\n",
            "AMZN  처리하기\n",
            "FB  처리하기\n",
            "SBUX  처리하기\n"
          ],
          "name": "stdout"
        }
      ]
    },
    {
      "cell_type": "code",
      "metadata": {
        "id": "-xxP8_MitjGA"
      },
      "source": [
        "# 필요한 모듈을 임포트하는 방법들\n",
        "import requests \n",
        "import numpy as np\n",
        "from datetime import datetime, timedelta, timezone "
      ],
      "execution_count": 52,
      "outputs": []
    },
    {
      "cell_type": "code",
      "metadata": {
        "colab": {
          "base_uri": "https://localhost:8080/"
        },
        "id": "tFVboxnYtkY2",
        "outputId": "2af04158-0791-4e11-8afd-db03504cf5cf"
      },
      "source": [
        "# 함수 만들기: def 함수이름(매개변수1, 매개변수2) \n",
        "def stat_func(a, b):\n",
        "    return a + b, (a + b) / 2  # 다수 리턴값\n",
        "\n",
        "print(stat_func(10, 20))  # (30, 15.0)"
      ],
      "execution_count": 19,
      "outputs": [
        {
          "output_type": "stream",
          "text": [
            "(30, 15.0)\n"
          ],
          "name": "stdout"
        }
      ]
    },
    {
      "cell_type": "code",
      "metadata": {
        "colab": {
          "base_uri": "https://localhost:8080/"
        },
        "id": "2r_2__-Ptk0H",
        "outputId": "600b7cc4-ee15-44ae-9641-335fb207fbfa"
      },
      "source": [
        "# 내장함수들: len(), sum(), min(), max(), \n",
        "data = [10, 20, 30, 50, 110, 2, 90, 30, 8]\n",
        "print(len(data), sum(data), min(data), max(data))\n",
        "print('데이터 평균값:', sum(data) / len(data))"
      ],
      "execution_count": 20,
      "outputs": [
        {
          "output_type": "stream",
          "text": [
            "9 350 2 110\n",
            "데이터 평균값: 38.888888888888886\n"
          ],
          "name": "stdout"
        }
      ]
    },
    {
      "cell_type": "code",
      "metadata": {
        "colab": {
          "base_uri": "https://localhost:8080/"
        },
        "id": "fsDSqwxJtmda",
        "outputId": "1de29372-d1c5-4dde-8bb7-363fab345ef0"
      },
      "source": [
        "# 예외 처리: try...except\n",
        "x = [10, 20, 30]\n",
        "\n",
        "try:\n",
        "    print(x[4])      # IndexError\n",
        "    print(x[1] / 0)  # ZeroDivisionError\n",
        "except IndexError as e:\n",
        "    # IndexError 예외 처리하기\n",
        "    print(e)\n",
        "except Exception as e:\n",
        "    # 그밖에 모든 예외 처리하기\n",
        "    print(e)\n"
      ],
      "execution_count": 21,
      "outputs": [
        {
          "output_type": "stream",
          "text": [
            "list index out of range\n"
          ],
          "name": "stdout"
        }
      ]
    },
    {
      "cell_type": "code",
      "metadata": {
        "id": "4HrfI8rwtoiS"
      },
      "source": [
        "# 날짜와 시간\n",
        "from datetime import datetime, timedelta\n",
        "dt = datetime(2019, 3, 10, 11, 30)"
      ],
      "execution_count": 22,
      "outputs": []
    },
    {
      "cell_type": "code",
      "metadata": {
        "colab": {
          "base_uri": "https://localhost:8080/"
        },
        "id": "CEat4sDlto8d",
        "outputId": "ecee1ab9-0c4c-499d-c0fb-6e1416bf7526"
      },
      "source": [
        "# strftime(): 시간을 문자열로\n",
        "print(dt.strftime(\"%Y-%m-%d %H:%M:%S\")) # 2019-03-10 11:30:00\n",
        "\n",
        "# strptime(): 문자열을 시간으로\n",
        "s = \"2019년 03월 10일 11시 30분\"\n",
        "print(datetime.strptime(s, \"%Y년 %m월 %d일 %H시 %M분\")) # 2019-03-10 11:30:00\n",
        "\n",
        "# 오늘 부터 100일 후\n",
        "print(datetime.now() - timedelta(days=100)) # 2018-10-29 23:42:12.772049"
      ],
      "execution_count": 53,
      "outputs": [
        {
          "output_type": "stream",
          "text": [
            "2019-03-10 11:30:00\n",
            "2019-03-10 11:30:00\n",
            "2020-12-31 08:31:54.495185\n"
          ],
          "name": "stdout"
        }
      ]
    },
    {
      "cell_type": "code",
      "metadata": {
        "colab": {
          "base_uri": "https://localhost:8080/"
        },
        "id": "1PJ3eJFO6X7D",
        "outputId": "88fb5f8b-2eb3-417f-9cea-de08054fd0f2"
      },
      "source": [
        "bday = datetime(1996, 4, 25)\n",
        "delta = datetime.today() -bday\n",
        "delta.days"
      ],
      "execution_count": 54,
      "outputs": [
        {
          "output_type": "execute_result",
          "data": {
            "text/plain": [
              "9116"
            ]
          },
          "metadata": {
            "tags": []
          },
          "execution_count": 54
        }
      ]
    },
    {
      "cell_type": "code",
      "metadata": {
        "colab": {
          "base_uri": "https://localhost:8080/"
        },
        "id": "U2lNKb-itrvG",
        "outputId": "3b045e60-a7f9-4aec-e28e-446ee9a4aa58"
      },
      "source": [
        "# collections.Counter\n",
        "from collections import Counter\n",
        "stocks = ['삼성전자', '셀트리온', '셀트리온']\n",
        "\n",
        "cntr = Counter(stocks)\n",
        "print(cntr.most_common())  # [('셀트리온', 2), ('삼성전자', 1)]"
      ],
      "execution_count": 24,
      "outputs": [
        {
          "output_type": "stream",
          "text": [
            "[('셀트리온', 2), ('삼성전자', 1)]\n"
          ],
          "name": "stdout"
        }
      ]
    },
    {
      "cell_type": "code",
      "metadata": {
        "colab": {
          "base_uri": "https://localhost:8080/"
        },
        "id": "f-mJ4lN3tS02",
        "outputId": "2be2d366-8edf-4eba-b4a2-68f1e49edef1"
      },
      "source": [
        "# 파일 입출력, 쓰기\n",
        "data = \"6, 12, 3, 2, 13\"\n",
        "with open(\"output.txt\", \"w\") as f:\n",
        "    f.write(data)\n",
        "    \n",
        "# 파일 입출력, 읽기\n",
        "with open(\"output.txt\", \"r\") as f:\n",
        "    contents = f.read()\n",
        "\n",
        "print(contents)  # 6, 12, 3, 2, 13\n",
        "\n",
        "print('Happy Python Coding!')"
      ],
      "execution_count": 25,
      "outputs": [
        {
          "output_type": "stream",
          "text": [
            "6, 12, 3, 2, 13\n",
            "Happy Python Coding!\n"
          ],
          "name": "stdout"
        }
      ]
    }
  ]
}