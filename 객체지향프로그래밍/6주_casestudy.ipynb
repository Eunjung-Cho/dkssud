{
 "cells": [
  {
   "cell_type": "markdown",
   "source": [
    "# 추상화, 캡슐화 Case Study\n",
    "- note 프로그램"
   ],
   "metadata": {
    "collapsed": false,
    "pycharm": {
     "name": "#%% md\n"
    }
   }
  },
  {
   "cell_type": "markdown",
   "source": [
    "## Note 객체 만들기"
   ],
   "metadata": {
    "collapsed": false,
    "pycharm": {
     "name": "#%% md\n"
    }
   }
  },
  {
   "cell_type": "code",
   "execution_count": 21,
   "metadata": {
    "collapsed": true
   },
   "outputs": [
    {
     "name": "stdout",
     "output_type": "stream",
     "text": [
      "객체 n1 노트의 id : 1\n",
      "객체 n2 노트의 id : 2\n",
      "hello가 n1노트에 존재하는 내용 여부: True\n",
      "second가 n1노트에 존재하는 내용 여부: False\n"
     ]
    }
   ],
   "source": [
    "import datetime\n",
    "\n",
    "#last_id = 0 # 전역 변수\n",
    "\n",
    "class Note:\n",
    "    last_id = 0 #class 소속 변수\n",
    "    def __init__(self, memo):\n",
    "        self.__memo = memo\n",
    "        self.__creation_date = datetime.date.today()\n",
    "\n",
    "        Note.last_id += 1\n",
    "        self.__id= Note.last_id\n",
    "    @property\n",
    "    def memo(self):\n",
    "        return self.__memo\n",
    "\n",
    "    @property\n",
    "    def creation_date(self):\n",
    "        return self.__creation_date\n",
    "    @property\n",
    "    def id(self):\n",
    "        return self.__id\n",
    "\n",
    "    def match(self, txt):\n",
    "        return txt in self.memo\n",
    "\n",
    "    @memo.setter\n",
    "    def memo(self, txt):\n",
    "        self.__memo = txt\n",
    "\n",
    "# 위의 코드 실행\n",
    "if __name__ == '__main__':\n",
    "    n1 = Note('hello first')\n",
    "    n2 = Note('hello again')\n",
    "\n",
    "    print(f'객체 n1 노트의 id : {n1.id}')\n",
    "    print(f'객체 n2 노트의 id : {n2.id}')\n",
    "\n",
    "    txt = 'hello'\n",
    "    print(f'{txt}가 n1노트에 존재하는 내용 여부: {n1.match(txt)}')\n",
    "    txt1 = 'second'\n",
    "    print(f'{txt1}가 n1노트에 존재하는 내용 여부: {n2.match(txt1)}')\n"
   ]
  },
  {
   "cell_type": "markdown",
   "source": [
    "## Notebook 객체 만들기"
   ],
   "metadata": {
    "collapsed": false,
    "pycharm": {
     "name": "#%% md\n"
    }
   }
  },
  {
   "cell_type": "code",
   "execution_count": 26,
   "outputs": [
    {
     "ename": "IndentationError",
     "evalue": "unindent does not match any outer indentation level (<tokenize>, line 13)",
     "output_type": "error",
     "traceback": [
      "\u001B[1;36m  File \u001B[1;32m\"<tokenize>\"\u001B[1;36m, line \u001B[1;32m13\u001B[0m\n\u001B[1;33m    return None\u001B[0m\n\u001B[1;37m    ^\u001B[0m\n\u001B[1;31mIndentationError\u001B[0m\u001B[1;31m:\u001B[0m unindent does not match any outer indentation level\n"
     ]
    }
   ],
   "source": [
    "class Notebook:\n",
    "    def __init__(self):\n",
    "        self.notes = []\n",
    "\n",
    "    def new_note(self, memo): #새로 메모가 들어옴\n",
    "        note = Note(memo)\n",
    "        self.notes.append(note)\n",
    "\n",
    "    def __find_note(self, note_id):\n",
    "         for note in self.notes:\n",
    "            if note.id == note_id:\n",
    "                return note\n",
    "        return None\n",
    "\n",
    "    def modify_memo(self, note_id, memo):\n",
    "        target_note = self.__find_note(note_id)\n",
    "\n",
    "        if target_note:\n",
    "            target_note.memo = memo\n",
    "            return True\n",
    "        else:\n",
    "            return False\n",
    "\n",
    "    def search(self, txt):\n",
    "        found_notes = [note for note in self.notes if note.match(txt)]\n",
    "        return found_notes\n",
    "\n",
    "if __name__ == '__main__':\n",
    "    n = Notebook()\n",
    "    n.new_note('hello world')\n",
    "    n.new_note('hello again')\n",
    "\n",
    "    for note in n.notes:\n",
    "        print(f'id: {note.id}, 메모내용: {note.memo}')\n",
    "\n",
    "    search_notes = n.search('hello')\n",
    "    for note in search_notes:\n",
    "        print(f'id: {note.id}')\n",
    "\n",
    "    search_notes = n.search('world')\n",
    "    for note in search_notes:\n",
    "        print(f'id: {note.id}')\n",
    "\n",
    "    n.modify_memo(1, 'hi, world')\n",
    "    for note in n.notes:\n",
    "        print(note.memo)"
   ],
   "metadata": {
    "collapsed": false,
    "pycharm": {
     "name": "#%%\n"
    }
   }
  },
  {
   "cell_type": "code",
   "execution_count": 27,
   "outputs": [
    {
     "name": "stdout",
     "output_type": "stream",
     "text": [
      "\n",
      "        *** Notebook Menu ***\n",
      "        1. 모든 노트 보이기\n",
      "        2. 노트 검색하기\n",
      "        3. 노트 추가하기\n",
      "        4. 노트 수정하기\n",
      "        5. 그만두기\n",
      "        \n",
      "노트가 추가되었습니다.\n",
      "\n",
      "        *** Notebook Menu ***\n",
      "        1. 모든 노트 보이기\n",
      "        2. 노트 검색하기\n",
      "        3. 노트 추가하기\n",
      "        4. 노트 수정하기\n",
      "        5. 그만두기\n",
      "        \n",
      "노트가 추가되었습니다.\n",
      "\n",
      "        *** Notebook Menu ***\n",
      "        1. 모든 노트 보이기\n",
      "        2. 노트 검색하기\n",
      "        3. 노트 추가하기\n",
      "        4. 노트 수정하기\n",
      "        5. 그만두기\n",
      "        \n",
      "3: hello first\n",
      "4: hello again\n",
      "\n",
      "        *** Notebook Menu ***\n",
      "        1. 모든 노트 보이기\n",
      "        2. 노트 검색하기\n",
      "        3. 노트 추가하기\n",
      "        4. 노트 수정하기\n",
      "        5. 그만두기\n",
      "        \n",
      "3: hello first\n",
      "4: hello again\n",
      "\n",
      "        *** Notebook Menu ***\n",
      "        1. 모든 노트 보이기\n",
      "        2. 노트 검색하기\n",
      "        3. 노트 추가하기\n",
      "        4. 노트 수정하기\n",
      "        5. 그만두기\n",
      "        \n",
      "노트북 프로그램을 사용해주셔서 감사합니다.\n"
     ]
    },
    {
     "ename": "SystemExit",
     "evalue": "",
     "output_type": "error",
     "traceback": [
      "An exception has occurred, use %tb to see the full traceback.\n",
      "\u001B[1;31mSystemExit\u001B[0m\n"
     ]
    },
    {
     "name": "stderr",
     "output_type": "stream",
     "text": [
      "C:\\Users\\user\\anaconda3\\envs\\pythonProject1\\lib\\site-packages\\IPython\\core\\interactiveshell.py:3445: UserWarning: To exit: use 'exit', 'quit', or Ctrl-D.\n",
      "  warn(\"To exit: use 'exit', 'quit', or Ctrl-D.\", stacklevel=1)\n"
     ]
    }
   ],
   "source": [
    "class Menu:\n",
    "    def __init__(self):\n",
    "        self.notebook = Notebook()\n",
    "        self.choices = {'1': self.show_notes,\n",
    "                        '2': self.search_notes,\n",
    "                        '3': self.add_notes,\n",
    "                        '4': self.modify_notes,\n",
    "                        '5': self.quit}\n",
    "    def __display_menu(self):\n",
    "        print(\"\"\"\n",
    "        *** Notebook Menu ***\n",
    "        1. 모든 노트 보이기\n",
    "        2. 노트 검색하기\n",
    "        3. 노트 추가하기\n",
    "        4. 노트 수정하기\n",
    "        5. 그만두기\n",
    "        \"\"\")\n",
    "    def run(self):\n",
    "        while True:\n",
    "            self.__display_menu()\n",
    "\n",
    "            choice = input('번호를 선택하세요:')\n",
    "            action = self.choices.get(choice)\n",
    "\n",
    "            if action:\n",
    "                action()\n",
    "            else:\n",
    "                print(f'{choice} 는 적절한 선택이 아닙니다.')\n",
    "\n",
    "    def show_notes(self, notes=None):\n",
    "        if notes is None:\n",
    "            notes = self.notebook.notes\n",
    "        elif not len(notes):\n",
    "            print('매치되는 노트가 없습니다.')\n",
    "\n",
    "        for note in notes:\n",
    "            print(f'{note.id}: {note.memo}')\n",
    "\n",
    "    def search_notes(self):\n",
    "        target = input('찾고 싶은 노트 입력:')\n",
    "        notes = self.notebook.search(target)\n",
    "        self.show_notes(notes)\n",
    "\n",
    "    def add_notes(self):\n",
    "        memo = input('메모를 추가하세요:')\n",
    "        self.notebook.new_note(memo)\n",
    "        print('노트가 추가되었습니다.')\n",
    "\n",
    "    def modify_notes(self):\n",
    "        id = int(input('노트 id를 입력:'))\n",
    "        memo = input('메모 입력:')\n",
    "\n",
    "        if memo:\n",
    "            self.notebook.modify_memo(id,memo)\n",
    "\n",
    "    def quit(self):\n",
    "        print('노트북 프로그램을 사용해주셔서 감사합니다.')\n",
    "        sys.exit()\n",
    "\n",
    "if __name__ == '__main__':\n",
    "    menu = Menu()\n",
    "    menu.run()"
   ],
   "metadata": {
    "collapsed": false,
    "pycharm": {
     "name": "#%%\n"
    }
   }
  }
 ],
 "metadata": {
  "kernelspec": {
   "name": "python3",
   "language": "python",
   "display_name": "Python 3"
  },
  "language_info": {
   "codemirror_mode": {
    "name": "ipython",
    "version": 2
   },
   "file_extension": ".py",
   "mimetype": "text/x-python",
   "name": "python",
   "nbconvert_exporter": "python",
   "pygments_lexer": "ipython2",
   "version": "2.7.6"
  }
 },
 "nbformat": 4,
 "nbformat_minor": 0
}