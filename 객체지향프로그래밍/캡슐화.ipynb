{
 "cells": [
  {
   "cell_type": "code",
   "execution_count": 1,
   "metadata": {
    "collapsed": true
   },
   "outputs": [
    {
     "name": "stdout",
     "output_type": "stream",
     "text": [
      "2\n",
      "12\n",
      "12\n"
     ]
    }
   ],
   "source": [
    "# 속성 캡슐화 하지 않는 경우\n",
    "class P:\n",
    "    def __init__(self,x):\n",
    "        self.x = x\n",
    "def main():\n",
    "    p1 = P(2)\n",
    "    p2 = P(5)\n",
    "    print(p1.x)\n",
    "\n",
    "    p1.x = 7\n",
    "    print(p1.x+p2.x)\n",
    "\n",
    "    p2.x = p1.x + p2.x\n",
    "    print(p2.x)\n",
    "\n",
    "main()"
   ]
  },
  {
   "cell_type": "code",
   "execution_count": 4,
   "outputs": [
    {
     "name": "stdout",
     "output_type": "stream",
     "text": [
      "2\n",
      "12\n",
      "12\n"
     ]
    }
   ],
   "source": [
    "class P:\n",
    "    def __init__(self,x):\n",
    "        self.__x = x\n",
    "    # getter 만들기 -> 속성의 값을 읽을 수 있는 메쏘드\n",
    "    def get_x(self):\n",
    "        return self.__x\n",
    "    # setter 만들기 -> 속성의 값을 변경할 수 있는 메쏘드\n",
    "    def set_x(self,x):\n",
    "        self.__x = x\n",
    "\n",
    "def main():\n",
    "    p1 = P(2)\n",
    "    p2 = P(5)\n",
    "    print(p1.get_x()) # P(2) 안에 있는 2 값 자체를 출력\n",
    "\n",
    "    p1.set_x(7) #p1은 지금 2가아닌 7로 값을 세팅\n",
    "    print(p1.get_x()+p2.get_x()) # 7더하기 5\n",
    "\n",
    "    p2.set_x(p1.get_x()+p2.get_x()) #위에서 p1은 7 이고 p2는 5 따라서 12로 세팅이 됨\n",
    "    print(p2.get_x()) # 12\n",
    "\n",
    "main()"
   ],
   "metadata": {
    "collapsed": false,
    "pycharm": {
     "name": "#%%\n"
    }
   }
  },
  {
   "cell_type": "markdown",
   "source": [
    "setter 사용하는 캡슐화 해보기"
   ],
   "metadata": {
    "collapsed": false,
    "pycharm": {
     "name": "#%% md\n"
    }
   }
  },
  {
   "cell_type": "code",
   "execution_count": 1,
   "outputs": [
    {
     "name": "stdout",
     "output_type": "stream",
     "text": [
      "1\n",
      "9\n",
      "9\n"
     ]
    }
   ],
   "source": [
    "class P:\n",
    "    def __init__(self,x):\n",
    "        self.__x =x\n",
    "    @property\n",
    "    def x(self):\n",
    "        return self.__x\n",
    "    @x.setter # @속성이름.setter\n",
    "    def x(self,x):\n",
    "        self.__x =x\n",
    "def main():\n",
    "    p1 = P(1)\n",
    "    p2 = P(2)\n",
    "    print(p1.x)\n",
    "\n",
    "    p1.x = 7\n",
    "    print(p1.x + p2.x)\n",
    "\n",
    "    p2.x = p1.x + p2.x\n",
    "    print(p2.x)\n",
    "\n",
    "main()\n",
    "\n"
   ],
   "metadata": {
    "collapsed": false,
    "pycharm": {
     "name": "#%%\n"
    }
   }
  }
 ],
 "metadata": {
  "kernelspec": {
   "display_name": "Python 3",
   "language": "python",
   "name": "python3"
  },
  "language_info": {
   "codemirror_mode": {
    "name": "ipython",
    "version": 2
   },
   "file_extension": ".py",
   "mimetype": "text/x-python",
   "name": "python",
   "nbconvert_exporter": "python",
   "pygments_lexer": "ipython2",
   "version": "2.7.6"
  }
 },
 "nbformat": 4,
 "nbformat_minor": 0
}