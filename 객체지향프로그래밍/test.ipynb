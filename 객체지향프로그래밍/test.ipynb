{
 "cells": [
  {
   "cell_type": "code",
   "execution_count": 31,
   "metadata": {
    "collapsed": true
   },
   "outputs": [
    {
     "name": "stdout",
     "output_type": "stream",
     "text": [
      "610\n"
     ]
    }
   ],
   "source": [
    "def fibonacci_less(n):\n",
    "    if n<=1:\n",
    "        return n\n",
    "    else:\n",
    "        return(fibonacci_less(n-1) + fibonacci_less(n-2))\n",
    "\n",
    "print(fibonacci_less(15))"
   ]
  },
  {
   "cell_type": "code",
   "execution_count": 10,
   "outputs": [
    {
     "name": "stdout",
     "output_type": "stream",
     "text": [
      "[1, 1, 2, 3, 5, 8, 13, 21, 34, 55, 89, 144, 233, 377, 610]\n"
     ]
    }
   ],
   "source": [
    "def fibonacci_num(n):\n",
    "    if n==1:\n",
    "        return [1]\n",
    "    if n==2:\n",
    "        return [1,1]\n",
    "    a = 1\n",
    "    b = 1\n",
    "    mylist =[a,b]\n",
    "    for i in range(n-2):\n",
    "        c = a+b\n",
    "        mylist.append(c)\n",
    "        a=b\n",
    "        b=c\n",
    "    return mylist\n",
    "\n",
    "n = int(input('피보나치 수열의 항 개수를 입력하시오:'))\n",
    "print(fibonacci_num(n))\n",
    "\n"
   ],
   "metadata": {
    "collapsed": false,
    "pycharm": {
     "name": "#%%\n"
    }
   }
  },
  {
   "cell_type": "code",
   "execution_count": 12,
   "outputs": [
    {
     "name": "stdout",
     "output_type": "stream",
     "text": [
      "[1, 1, 2, 3, 5, 8, 13, 21, 34, 55, 89, 144, 233]\n"
     ]
    }
   ],
   "source": [
    "'''\n",
    "def fibonacci_less(n):\n",
    "    if n==1:\n",
    "        return [1]\n",
    "    if n==2:\n",
    "        return [1,1]\n",
    "    a = 1\n",
    "    b = 1\n",
    "    mylist =[a,b]\n",
    "    for i in range(n-2):\n",
    "        c = a+b\n",
    "        mylist.append(c)\n",
    "        a=b\n",
    "        b=c\n",
    "        if c >=200:\n",
    "            break\n",
    "    return mylist\n",
    "\n",
    "n = int(input('피보나치 수열의 항 개수를 입력하시오:'))\n",
    "print(fibonacci_less(n))\n",
    "'''"
   ],
   "metadata": {
    "collapsed": false,
    "pycharm": {
     "name": "#%%\n"
    }
   }
  },
  {
   "cell_type": "code",
   "execution_count": 40,
   "outputs": [
    {
     "name": "stdout",
     "output_type": "stream",
     "text": [
      "[0, 1, 1, 2, 3, 5, 8, 13, 21, 34, 55, 89, 144]\n"
     ]
    }
   ],
   "source": [
    "def fibonacci_less(x):\n",
    "    mylist2=[0,1]\n",
    "    for i in range(2, x+1):\n",
    "        num = mylist2[i-1] + mylist2[i-2]\n",
    "        mylist2.append(num)\n",
    "\n",
    "    return mylist2\n",
    "\n",
    "\n",
    "print(fibonacci_less(12))\n",
    "\n",
    "\n"
   ],
   "metadata": {
    "collapsed": false,
    "pycharm": {
     "name": "#%%\n"
    }
   }
  },
  {
   "cell_type": "code",
   "execution_count": null,
   "outputs": [],
   "source": [],
   "metadata": {
    "collapsed": false,
    "pycharm": {
     "name": "#%%\n"
    }
   }
  }
 ],
 "metadata": {
  "kernelspec": {
   "name": "pycharm-59d7ec7",
   "language": "python",
   "display_name": "PyCharm (pythonProject1)"
  },
  "language_info": {
   "codemirror_mode": {
    "name": "ipython",
    "version": 2
   },
   "file_extension": ".py",
   "mimetype": "text/x-python",
   "name": "python",
   "nbconvert_exporter": "python",
   "pygments_lexer": "ipython2",
   "version": "2.7.6"
  }
 },
 "nbformat": 4,
 "nbformat_minor": 0
}